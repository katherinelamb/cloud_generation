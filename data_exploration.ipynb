{
 "cells": [
  {
   "cell_type": "markdown",
   "metadata": {},
   "source": [
    "Written from https://www.kaggle.com/aleksandradeis/understanding-clouds-eda\n",
    "\n",
    "Possible UNet model https://www.kaggle.com/dimitreoliveira/cloud-segmentation-with-utility-scripts-and-keras"
   ]
  },
  {
   "cell_type": "markdown",
   "metadata": {},
   "source": [
    "We are tasked with multiclass segmentation task: finding 4 different cloud patterns in the images. On the other hand, we make predictions for each pair of image and label separately, so this could be treated as 4 binary segmentation tasks. It is important to notice that images (and masks) are 1400 x 2100, but predicted masks should be 350 x 525.\n",
    "\n",
    "Multiclass Segmentation:\n",
    "http://ai.stanford.edu/~sgould/svl/howto/svlMultiClassSegmentation.pdf"
   ]
  },
  {
   "cell_type": "code",
   "execution_count": 10,
   "metadata": {},
   "outputs": [],
   "source": [
    "import pandas as pd\n",
    "import os\n",
    "from glob import glob"
   ]
  },
  {
   "cell_type": "code",
   "execution_count": 13,
   "metadata": {},
   "outputs": [
    {
     "name": "stdout",
     "output_type": "stream",
     "text": [
      "There are 5546 images in the train set.\n",
      "There are 3698 images in the test set.\n"
     ]
    }
   ],
   "source": [
    "# set paths to train and test image datasets\n",
    "TRAIN_PATH = 'understanding_cloud_organization_384x576/train_images/'\n",
    "TEST_PATH = 'understanding_cloud_organization_384x576/test_images/'\n",
    "\n",
    "# load dataframe with train labels\n",
    "train_df = pd.read_csv('understanding_cloud_organization_384x576/train.csv')\n",
    "train_fns = sorted(glob(TRAIN_PATH + '*.jpg'))\n",
    "\n",
    "print('There are {} images in the train set.'.format(len(train_fns)))\n",
    "\n",
    "# load the filenames for test images\n",
    "test_fns = sorted(glob(TEST_PATH + '*.jpg'))\n",
    "\n",
    "print('There are {} images in the test set.'.format(len(test_fns)))"
   ]
  },
  {
   "cell_type": "code",
   "execution_count": 14,
   "metadata": {
    "scrolled": true
   },
   "outputs": [
    {
     "data": {
      "text/html": [
       "<div>\n",
       "<style scoped>\n",
       "    .dataframe tbody tr th:only-of-type {\n",
       "        vertical-align: middle;\n",
       "    }\n",
       "\n",
       "    .dataframe tbody tr th {\n",
       "        vertical-align: top;\n",
       "    }\n",
       "\n",
       "    .dataframe thead th {\n",
       "        text-align: right;\n",
       "    }\n",
       "</style>\n",
       "<table border=\"1\" class=\"dataframe\">\n",
       "  <thead>\n",
       "    <tr style=\"text-align: right;\">\n",
       "      <th></th>\n",
       "      <th>Image_Label</th>\n",
       "      <th>EncodedPixels</th>\n",
       "    </tr>\n",
       "  </thead>\n",
       "  <tbody>\n",
       "    <tr>\n",
       "      <th>0</th>\n",
       "      <td>0011165.jpg_Fish</td>\n",
       "      <td>20056 257 20440 257 20824 257 21208 257 21592 ...</td>\n",
       "    </tr>\n",
       "    <tr>\n",
       "      <th>1</th>\n",
       "      <td>0011165.jpg_Flower</td>\n",
       "      <td>102135 1 102245 275 102629 275 103013 275 1033...</td>\n",
       "    </tr>\n",
       "    <tr>\n",
       "      <th>2</th>\n",
       "      <td>0011165.jpg_Gravel</td>\n",
       "      <td>NaN</td>\n",
       "    </tr>\n",
       "    <tr>\n",
       "      <th>3</th>\n",
       "      <td>0011165.jpg_Sugar</td>\n",
       "      <td>NaN</td>\n",
       "    </tr>\n",
       "    <tr>\n",
       "      <th>4</th>\n",
       "      <td>002be4f.jpg_Fish</td>\n",
       "      <td>17668 241 18051 242 18435 242 18819 242 19203 ...</td>\n",
       "    </tr>\n",
       "  </tbody>\n",
       "</table>\n",
       "</div>"
      ],
      "text/plain": [
       "          Image_Label                                      EncodedPixels\n",
       "0    0011165.jpg_Fish  20056 257 20440 257 20824 257 21208 257 21592 ...\n",
       "1  0011165.jpg_Flower  102135 1 102245 275 102629 275 103013 275 1033...\n",
       "2  0011165.jpg_Gravel                                                NaN\n",
       "3   0011165.jpg_Sugar                                                NaN\n",
       "4    002be4f.jpg_Fish  17668 241 18051 242 18435 242 18819 242 19203 ..."
      ]
     },
     "execution_count": 14,
     "metadata": {},
     "output_type": "execute_result"
    }
   ],
   "source": [
    "train_df.head()"
   ]
  },
  {
   "cell_type": "markdown",
   "metadata": {},
   "source": [
    "For each image from the training dataset there are 4 lines for each type of clouds.\n",
    "\n",
    "Image_Label is a contatenation of the image filename and a cloud type.\n",
    "\n",
    "If a certain type of clouds in present on the image, the EncodedPixels column is non-null and contains the segmentation map for the corresponding cloud type.\n",
    "\n",
    "Almost half the rows are null value empty rows."
   ]
  },
  {
   "cell_type": "code",
   "execution_count": 15,
   "metadata": {},
   "outputs": [
    {
     "name": "stdout",
     "output_type": "stream",
     "text": [
      "There are 10348 rows with empty segmentation maps.\n"
     ]
    }
   ],
   "source": [
    "print('There are {} rows with empty segmentation maps.'.format(len(train_df) - train_df.EncodedPixels.count()))"
   ]
  },
  {
   "cell_type": "code",
   "execution_count": 17,
   "metadata": {},
   "outputs": [
    {
     "name": "stdout",
     "output_type": "stream",
     "text": [
      "There are 2781 fish clouds\n",
      "There are 2365 flower clouds\n",
      "There are 2939 gravel clouds\n",
      "There are 3751 sugar clouds\n"
     ]
    }
   ],
   "source": [
    "# split column\n",
    "split_df = train_df[\"Image_Label\"].str.split(\"_\", n = 1, expand = True)\n",
    "# add new columns to train_df\n",
    "train_df['Image'] = split_df[0]\n",
    "train_df['Label'] = split_df[1]\n",
    "\n",
    "# check the result\n",
    "train_df.head()\n",
    "\n",
    "fish = train_df[train_df['Label'] == 'Fish'].EncodedPixels.count()\n",
    "flower = train_df[train_df['Label'] == 'Flower'].EncodedPixels.count()\n",
    "gravel = train_df[train_df['Label'] == 'Gravel'].EncodedPixels.count()\n",
    "sugar = train_df[train_df['Label'] == 'Sugar'].EncodedPixels.count()\n",
    "\n",
    "print('There are {} fish clouds'.format(fish))\n",
    "print('There are {} flower clouds'.format(flower))\n",
    "print('There are {} gravel clouds'.format(gravel))\n",
    "print('There are {} sugar clouds'.format(sugar))"
   ]
  },
  {
   "cell_type": "code",
   "execution_count": 18,
   "metadata": {},
   "outputs": [
    {
     "name": "stdout",
     "output_type": "stream",
     "text": [
      "The mean number of labels per image is 2.13415073927\n"
     ]
    }
   ],
   "source": [
    "labels_per_image = train_df.groupby('Image')['EncodedPixels'].count()\n",
    "print('The mean number of labels per image is {}'.format(labels_per_image.mean()))"
   ]
  },
  {
   "cell_type": "markdown",
   "metadata": {},
   "source": [
    "***Exploring the images***"
   ]
  },
  {
   "cell_type": "code",
   "execution_count": 19,
   "metadata": {},
   "outputs": [
    {
     "ename": "NameError",
     "evalue": "name 'get_image_sizes' is not defined",
     "output_type": "error",
     "traceback": [
      "\u001b[0;31m---------------------------------------------------------------------------\u001b[0m",
      "\u001b[0;31mNameError\u001b[0m                                 Traceback (most recent call last)",
      "\u001b[0;32m<ipython-input-19-0b3bb0d44851>\u001b[0m in \u001b[0;36m<module>\u001b[0;34m()\u001b[0m\n\u001b[1;32m      1\u001b[0m \u001b[0;31m# get sizes of images from test and train sets\u001b[0m\u001b[0;34m\u001b[0m\u001b[0;34m\u001b[0m\u001b[0m\n\u001b[0;32m----> 2\u001b[0;31m \u001b[0mtrain_widths\u001b[0m\u001b[0;34m,\u001b[0m \u001b[0mtrain_heights\u001b[0m\u001b[0;34m,\u001b[0m \u001b[0mmax_train\u001b[0m\u001b[0;34m,\u001b[0m \u001b[0mmin_train\u001b[0m \u001b[0;34m=\u001b[0m \u001b[0mget_image_sizes\u001b[0m\u001b[0;34m(\u001b[0m\u001b[0mtrain\u001b[0m \u001b[0;34m=\u001b[0m \u001b[0mTrue\u001b[0m\u001b[0;34m)\u001b[0m\u001b[0;34m\u001b[0m\u001b[0m\n\u001b[0m\u001b[1;32m      3\u001b[0m \u001b[0mtest_widths\u001b[0m\u001b[0;34m,\u001b[0m \u001b[0mtest_heights\u001b[0m\u001b[0;34m,\u001b[0m \u001b[0mmax_test\u001b[0m\u001b[0;34m,\u001b[0m \u001b[0mmin_test\u001b[0m \u001b[0;34m=\u001b[0m \u001b[0mget_image_sizes\u001b[0m\u001b[0;34m(\u001b[0m\u001b[0mtrain\u001b[0m \u001b[0;34m=\u001b[0m \u001b[0mFalse\u001b[0m\u001b[0;34m)\u001b[0m\u001b[0;34m\u001b[0m\u001b[0m\n\u001b[1;32m      4\u001b[0m \u001b[0;34m\u001b[0m\u001b[0m\n\u001b[1;32m      5\u001b[0m \u001b[0;32mprint\u001b[0m\u001b[0;34m(\u001b[0m\u001b[0;34m'Maximum width for training set is {}'\u001b[0m\u001b[0;34m.\u001b[0m\u001b[0mformat\u001b[0m\u001b[0;34m(\u001b[0m\u001b[0mmax\u001b[0m\u001b[0;34m(\u001b[0m\u001b[0mtrain_widths\u001b[0m\u001b[0;34m)\u001b[0m\u001b[0;34m)\u001b[0m\u001b[0;34m)\u001b[0m\u001b[0;34m\u001b[0m\u001b[0m\n",
      "\u001b[0;31mNameError\u001b[0m: name 'get_image_sizes' is not defined"
     ]
    }
   ],
   "source": [
    "# get sizes of images from test and train sets\n",
    "train_widths, train_heights, max_train, min_train = get_image_sizes(train = True)\n",
    "test_widths, test_heights, max_test, min_test = get_image_sizes(train = False)\n",
    "\n",
    "print('Maximum width for training set is {}'.format(max(train_widths)))\n",
    "print('Minimum width for training set is {}'.format(min(train_widths)))\n",
    "print('Maximum height for training set is {}'.format(max(train_heights)))\n",
    "print('Minimum height for training set is {}'.format(min(train_heights)))"
   ]
  },
  {
   "cell_type": "code",
   "execution_count": null,
   "metadata": {},
   "outputs": [],
   "source": []
  }
 ],
 "metadata": {
  "kernelspec": {
   "display_name": "Python 2",
   "language": "python",
   "name": "python2"
  },
  "language_info": {
   "codemirror_mode": {
    "name": "ipython",
    "version": 2
   },
   "file_extension": ".py",
   "mimetype": "text/x-python",
   "name": "python",
   "nbconvert_exporter": "python",
   "pygments_lexer": "ipython2",
   "version": "2.7.16"
  }
 },
 "nbformat": 4,
 "nbformat_minor": 2
}
